{
  "nbformat": 4,
  "nbformat_minor": 0,
  "metadata": {
    "colab": {
      "name": "Guessing_Game.ipynb",
      "provenance": [],
      "authorship_tag": "ABX9TyOtABOJIqR9bitl5JnWBhgn",
      "include_colab_link": true
    },
    "kernelspec": {
      "name": "python3",
      "display_name": "Python 3"
    },
    "language_info": {
      "name": "python"
    }
  },
  "cells": [
    {
      "cell_type": "markdown",
      "metadata": {
        "id": "view-in-github",
        "colab_type": "text"
      },
      "source": [
        "<a href=\"https://colab.research.google.com/github/coderanandmaurya/Python/blob/master/Guessing_Game.ipynb\" target=\"_parent\"><img src=\"https://colab.research.google.com/assets/colab-badge.svg\" alt=\"Open In Colab\"/></a>"
      ]
    },
    {
      "cell_type": "code",
      "execution_count": 1,
      "metadata": {
        "id": "lOxWQHVu1kH9"
      },
      "outputs": [],
      "source": [
        "import random"
      ]
    },
    {
      "cell_type": "code",
      "source": [
        "random.randint(1,100)"
      ],
      "metadata": {
        "colab": {
          "base_uri": "https://localhost:8080/"
        },
        "id": "x_iscmye1xRe",
        "outputId": "294ee160-e528-49f9-abba-4df8f158a251"
      },
      "execution_count": 3,
      "outputs": [
        {
          "output_type": "execute_result",
          "data": {
            "text/plain": [
              "19"
            ]
          },
          "metadata": {},
          "execution_count": 3
        }
      ]
    },
    {
      "cell_type": "code",
      "source": [
        "jackpot = random.randint(1,10)\n",
        "\n",
        "GuessN=int(input(\"Guess Number: \"))\n",
        "counter=1\n",
        "\n",
        "while GuessN != jackpot:\n",
        "  if GuessN < jackpot:\n",
        "    print(\"Guess Higher\")\n",
        "  else:\n",
        "    print(\"Guess Lower\")\n",
        "\n",
        "  GuessN=int(input(\"Guess Again: \"))\n",
        "  counter+=1\n",
        "\n",
        "print(\"you are smart\")\n",
        "print(\"you took \"+ str(counter) +\" attempts\")"
      ],
      "metadata": {
        "colab": {
          "base_uri": "https://localhost:8080/"
        },
        "id": "AO94Xi_H1xce",
        "outputId": "36143c10-5001-4359-a554-489bece703d3"
      },
      "execution_count": 10,
      "outputs": [
        {
          "output_type": "stream",
          "name": "stdout",
          "text": [
            "Guess Number: 5\n",
            "Guess Higher\n",
            "Guess Again: 7\n",
            "Guess Higher\n",
            "Guess Again: 9\n",
            "you are smart\n",
            "you took 3 attempts\n"
          ]
        }
      ]
    },
    {
      "cell_type": "code",
      "source": [
        ""
      ],
      "metadata": {
        "id": "eDb4frq83vBD"
      },
      "execution_count": null,
      "outputs": []
    }
  ]
}