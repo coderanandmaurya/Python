{
  "nbformat": 4,
  "nbformat_minor": 0,
  "metadata": {
    "colab": {
      "name": "Print,DataType,comments.ipynb",
      "provenance": [],
      "authorship_tag": "ABX9TyMfppmrVtkmD1ouBbHnGrVN",
      "include_colab_link": true
    },
    "kernelspec": {
      "name": "python3",
      "display_name": "Python 3"
    },
    "language_info": {
      "name": "python"
    }
  },
  "cells": [
    {
      "cell_type": "markdown",
      "metadata": {
        "id": "view-in-github",
        "colab_type": "text"
      },
      "source": [
        "<a href=\"https://colab.research.google.com/github/coderanandmaurya/Python/blob/master/Basic.ipynb\" target=\"_parent\"><img src=\"https://colab.research.google.com/assets/colab-badge.svg\" alt=\"Open In Colab\"/></a>"
      ]
    },
    {
      "cell_type": "markdown",
      "source": [
        "## Print"
      ],
      "metadata": {
        "id": "nKHSwtic-cM5"
      }
    },
    {
      "cell_type": "code",
      "execution_count": 8,
      "metadata": {
        "colab": {
          "base_uri": "https://localhost:8080/"
        },
        "id": "GXbSXbws66Bt",
        "outputId": "646761ae-baa8-4f86-e4ba-02173780a7ec"
      },
      "outputs": [
        {
          "output_type": "stream",
          "name": "stdout",
          "text": [
            "1\n",
            "1.24\n",
            "hello_world\n",
            "coderanandmaurya\n",
            "coder anand maurya\n",
            "coder/anand/maurya\n",
            "coder-anand-maurya\n",
            "Hello world\n"
          ]
        }
      ],
      "source": [
        "print(1)\n",
        "print(1.24)\n",
        "print(\"hello_world\")\n",
        "print(\"coder\"+\"anand\"+\"maurya\")\n",
        "print(\"coder\",\"anand\",\"maurya\")\n",
        "print(\"coder\",\"anand\",\"maurya\",sep=\"/\")\n",
        "print(\"coder\",\"anand\",\"maurya\",sep=\"-\")\n",
        "print(\"Hello\", end=\" \")\n",
        "print(\"world\")"
      ]
    },
    {
      "cell_type": "markdown",
      "source": [
        "# Data-Types\n",
        "- basic type- int,float,comlex,boolean and string\n",
        "- container type - list, tuple, set, dictionary\n",
        "- user-defined type - Class"
      ],
      "metadata": {
        "id": "Im1HvzJP8H7x"
      }
    },
    {
      "cell_type": "markdown",
      "source": [
        "basic Type"
      ],
      "metadata": {
        "id": "t2Bqzrlt9omg"
      }
    },
    {
      "cell_type": "code",
      "source": [
        "#integer\n",
        "print(4)\n",
        "print(1e309)\n",
        "\n",
        "#float\n",
        "print(1.4)\n",
        "print(1.7e309)\n",
        "\n",
        "#comlex\n",
        "print(1+2j)\n",
        "\n",
        "#boolean\n",
        "print(True)\n",
        "print(False)\n",
        "\n",
        "#string\n",
        "print(\"anand\")\n",
        "print('anand')\n",
        "print(\"\"\"anand\"\"\")"
      ],
      "metadata": {
        "colab": {
          "base_uri": "https://localhost:8080/"
        },
        "id": "ELtvnbEz7G3I",
        "outputId": "17f4aea3-8eaf-4db7-f678-9f4e5bdb15b2"
      },
      "execution_count": 13,
      "outputs": [
        {
          "output_type": "stream",
          "name": "stdout",
          "text": [
            "4\n",
            "inf\n",
            "1.4\n",
            "inf\n",
            "(1+2j)\n",
            "True\n",
            "False\n",
            "anand\n",
            "anand\n",
            "anand\n"
          ]
        }
      ]
    },
    {
      "cell_type": "markdown",
      "source": [
        "Container Type"
      ],
      "metadata": {
        "id": "7KLCY1vY9vjh"
      }
    },
    {
      "cell_type": "code",
      "source": [
        "#list\n",
        "print([1,2,3,4])\n",
        "\n",
        "#sets\n",
        "print({1,2,3,4,6,4})\n",
        "\n",
        "#dictionary\n",
        "print({\"name\":\"anand\", \"marks\": 45})"
      ],
      "metadata": {
        "colab": {
          "base_uri": "https://localhost:8080/"
        },
        "id": "iGpnXx3F7pIY",
        "outputId": "b5c5f966-8bae-45d5-ae29-3500ba07d13d"
      },
      "execution_count": 14,
      "outputs": [
        {
          "output_type": "stream",
          "name": "stdout",
          "text": [
            "[1, 2, 3, 4]\n",
            "{1, 2, 3, 4, 6}\n",
            "{'name': 'anand', 'marks': 45}\n"
          ]
        }
      ]
    },
    {
      "cell_type": "code",
      "source": [
        ""
      ],
      "metadata": {
        "id": "uJIVd5Bd-IXp"
      },
      "execution_count": null,
      "outputs": []
    },
    {
      "cell_type": "markdown",
      "source": [
        "# comments"
      ],
      "metadata": {
        "id": "U7aSLY0v-QXh"
      }
    },
    {
      "cell_type": "code",
      "source": [
        "#This is comments"
      ],
      "metadata": {
        "colab": {
          "base_uri": "https://localhost:8080/",
          "height": 35
        },
        "id": "LTov6-1m-PiJ",
        "outputId": "cded855f-070b-48fc-ccbb-f0c895717e52"
      },
      "execution_count": 15,
      "outputs": [
        {
          "output_type": "execute_result",
          "data": {
            "application/vnd.google.colaboratory.intrinsic+json": {
              "type": "string"
            },
            "text/plain": [
              "'\\nhello worlds\\n\\n'"
            ]
          },
          "metadata": {},
          "execution_count": 15
        }
      ]
    },
    {
      "cell_type": "markdown",
      "source": [
        "# variable\n",
        "- Dynamic Typing: no variable datatype declaration\n",
        "- no variable declaration\n",
        "- Dynamic Binding: you can't change variable data type "
      ],
      "metadata": {
        "id": "aXN5G2Dm-18r"
      }
    },
    {
      "cell_type": "code",
      "source": [
        "a=5\n",
        "b=4\n",
        "name=\"anand\"\n",
        "print(name)\n",
        "name=4\n",
        "print(name)\n",
        "print(a+b)\n",
        "\n",
        "a=1;b=4;c=3\n",
        "print(a,b,c)\n",
        "\n",
        "a,b,c=1,2,3\n",
        "print(a,b,c)\n",
        "\n",
        "a=b=c=3\n",
        "print(a,b,c)"
      ],
      "metadata": {
        "colab": {
          "base_uri": "https://localhost:8080/"
        },
        "id": "fgjMKrcQ-2Pp",
        "outputId": "897f0b81-d123-4f5d-f9db-ec8272b99e37"
      },
      "execution_count": 22,
      "outputs": [
        {
          "output_type": "stream",
          "name": "stdout",
          "text": [
            "anand\n",
            "4\n",
            "9\n",
            "1 4 3\n",
            "1 2 3\n",
            "3 3 3\n"
          ]
        }
      ]
    },
    {
      "cell_type": "markdown",
      "source": [
        "# Identifiers and Keywords\n",
        "Python is case sentive language\n",
        "- Keywords: reserved word for program\n",
        "- identifier: use to identify variable, function, class, module or other object"
      ],
      "metadata": {
        "id": "wXyhhB0N_t7Z"
      }
    },
    {
      "cell_type": "code",
      "source": [
        "import keyword\n",
        "k=keyword.kwlist\n",
        "print(k)\n",
        "len(k)"
      ],
      "metadata": {
        "colab": {
          "base_uri": "https://localhost:8080/"
        },
        "id": "ifjoU50Z_tYr",
        "outputId": "1e795eb2-fd22-4a1d-957b-f3036cdfad2c"
      },
      "execution_count": 27,
      "outputs": [
        {
          "output_type": "stream",
          "name": "stdout",
          "text": [
            "['False', 'None', 'True', 'and', 'as', 'assert', 'async', 'await', 'break', 'class', 'continue', 'def', 'del', 'elif', 'else', 'except', 'finally', 'for', 'from', 'global', 'if', 'import', 'in', 'is', 'lambda', 'nonlocal', 'not', 'or', 'pass', 'raise', 'return', 'try', 'while', 'with', 'yield']\n"
          ]
        },
        {
          "output_type": "execute_result",
          "data": {
            "text/plain": [
              "35"
            ]
          },
          "metadata": {},
          "execution_count": 27
        }
      ]
    },
    {
      "cell_type": "code",
      "source": [
        ""
      ],
      "metadata": {
        "id": "gPm-itCB_EWX"
      },
      "execution_count": null,
      "outputs": []
    }
  ]
}