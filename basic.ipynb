{
  "nbformat": 4,
  "nbformat_minor": 0,
  "metadata": {
    "colab": {
      "name": "basic.ipynb",
      "provenance": [],
      "authorship_tag": "ABX9TyP6lG/yd7cRPqgyV4f2SmMe",
      "include_colab_link": true
    },
    "kernelspec": {
      "name": "python3",
      "display_name": "Python 3"
    },
    "language_info": {
      "name": "python"
    }
  },
  "cells": [
    {
      "cell_type": "markdown",
      "metadata": {
        "id": "view-in-github",
        "colab_type": "text"
      },
      "source": [
        "<a href=\"https://colab.research.google.com/github/coderanandmaurya/Python/blob/master/basic.ipynb\" target=\"_parent\"><img src=\"https://colab.research.google.com/assets/colab-badge.svg\" alt=\"Open In Colab\"/></a>"
      ]
    },
    {
      "cell_type": "markdown",
      "source": [
        "## Print"
      ],
      "metadata": {
        "id": "nKHSwtic-cM5"
      }
    },
    {
      "cell_type": "code",
      "execution_count": 30,
      "metadata": {
        "colab": {
          "base_uri": "https://localhost:8080/"
        },
        "id": "GXbSXbws66Bt",
        "outputId": "654997ea-00a4-4d1e-92ad-73dea62531ca"
      },
      "outputs": [
        {
          "output_type": "stream",
          "name": "stdout",
          "text": [
            "1\n",
            "1.24\n",
            "hello_world\n",
            "coderanandmaurya\n",
            "coder anand maurya\n",
            "coder/anand/maurya\n",
            "coder-anand-maurya\n",
            "Hello world\n"
          ]
        }
      ],
      "source": [
        "print(1)\n",
        "print(1.24)\n",
        "print(\"hello_world\")\n",
        "print(\"coder\"+\"anand\"+\"maurya\")\n",
        "print(\"coder\",\"anand\",\"maurya\")\n",
        "print(\"coder\",\"anand\",\"maurya\",sep=\"/\")\n",
        "print(\"coder\",\"anand\",\"maurya\",sep=\"-\")\n",
        "print(\"Hello\", end=\" \")\n",
        "print(\"world\")"
      ]
    },
    {
      "cell_type": "markdown",
      "source": [
        "# Data-Types\n",
        "- basic type- int,float,comlex,boolean and string\n",
        "- container type - list, tuple, set, dictionary\n",
        "- user-defined type - Class"
      ],
      "metadata": {
        "id": "Im1HvzJP8H7x"
      }
    },
    {
      "cell_type": "markdown",
      "source": [
        "basic Type"
      ],
      "metadata": {
        "id": "t2Bqzrlt9omg"
      }
    },
    {
      "cell_type": "code",
      "source": [
        "#integer\n",
        "print(4)\n",
        "print(1e309)\n",
        "\n",
        "#float\n",
        "print(1.4)\n",
        "print(1.7e309)\n",
        "\n",
        "#comlex\n",
        "print(1+2j)\n",
        "\n",
        "#boolean\n",
        "print(True)\n",
        "print(False)\n",
        "\n",
        "#string\n",
        "print(\"anand\")\n",
        "print('anand')\n",
        "print(\"\"\"anand\"\"\")"
      ],
      "metadata": {
        "colab": {
          "base_uri": "https://localhost:8080/"
        },
        "id": "ELtvnbEz7G3I",
        "outputId": "ef0aec00-642a-4cab-a5bb-f31b02217b03"
      },
      "execution_count": 31,
      "outputs": [
        {
          "output_type": "stream",
          "name": "stdout",
          "text": [
            "4\n",
            "inf\n",
            "1.4\n",
            "inf\n",
            "(1+2j)\n",
            "True\n",
            "False\n",
            "anand\n",
            "anand\n",
            "anand\n"
          ]
        }
      ]
    },
    {
      "cell_type": "markdown",
      "source": [
        "Container Type"
      ],
      "metadata": {
        "id": "7KLCY1vY9vjh"
      }
    },
    {
      "cell_type": "code",
      "source": [
        "#list\n",
        "print([1,2,3,4])\n",
        "\n",
        "#sets\n",
        "print({1,2,3,4,6,4})\n",
        "\n",
        "#dictionary\n",
        "print({\"name\":\"anand\", \"marks\": 45})"
      ],
      "metadata": {
        "colab": {
          "base_uri": "https://localhost:8080/"
        },
        "id": "iGpnXx3F7pIY",
        "outputId": "4c51f8a7-4162-445a-edf2-3c278ee41c50"
      },
      "execution_count": 32,
      "outputs": [
        {
          "output_type": "stream",
          "name": "stdout",
          "text": [
            "[1, 2, 3, 4]\n",
            "{1, 2, 3, 4, 6}\n",
            "{'name': 'anand', 'marks': 45}\n"
          ]
        }
      ]
    },
    {
      "cell_type": "markdown",
      "source": [
        "# comments"
      ],
      "metadata": {
        "id": "U7aSLY0v-QXh"
      }
    },
    {
      "cell_type": "code",
      "source": [
        "#This is comments"
      ],
      "metadata": {
        "id": "LTov6-1m-PiJ"
      },
      "execution_count": 33,
      "outputs": []
    },
    {
      "cell_type": "markdown",
      "source": [
        "# variable\n",
        "- Dynamic Typing: no variable datatype declaration\n",
        "- no variable declaration\n",
        "- Dynamic Binding: you can't change variable data type "
      ],
      "metadata": {
        "id": "aXN5G2Dm-18r"
      }
    },
    {
      "cell_type": "code",
      "source": [
        "a=5\n",
        "b=4\n",
        "name=\"anand\"\n",
        "print(name)\n",
        "name=4\n",
        "print(name)\n",
        "print(a+b)\n",
        "\n",
        "a=1;b=4;c=3\n",
        "print(a,b,c)\n",
        "\n",
        "a,b,c=1,2,3\n",
        "print(a,b,c)\n",
        "\n",
        "a=b=c=3\n",
        "print(a,b,c)"
      ],
      "metadata": {
        "colab": {
          "base_uri": "https://localhost:8080/"
        },
        "id": "fgjMKrcQ-2Pp",
        "outputId": "273f7497-0af1-4810-8179-87a38a8e182a"
      },
      "execution_count": 34,
      "outputs": [
        {
          "output_type": "stream",
          "name": "stdout",
          "text": [
            "anand\n",
            "4\n",
            "9\n",
            "1 4 3\n",
            "1 2 3\n",
            "3 3 3\n"
          ]
        }
      ]
    },
    {
      "cell_type": "markdown",
      "source": [
        "# Identifiers and Keywords\n",
        "Python is case sentive language\n",
        "- Keywords: reserved word for program\n",
        "- identifier: use to identify variable, function, class, module or other object\n",
        "- Rules for setting identifier\n",
        "  - can only start with an alphabet or _\n",
        "  - followed by 0 or more letter,_and digits\n",
        "  - keywords cannot be used as an identifier"
      ],
      "metadata": {
        "id": "wXyhhB0N_t7Z"
      }
    },
    {
      "cell_type": "code",
      "source": [
        "import keyword\n",
        "k=keyword.kwlist\n",
        "print(k)\n",
        "len(k)"
      ],
      "metadata": {
        "colab": {
          "base_uri": "https://localhost:8080/"
        },
        "id": "ifjoU50Z_tYr",
        "outputId": "6a0097f0-b0ef-4a2e-9bd6-351118baef9a"
      },
      "execution_count": 35,
      "outputs": [
        {
          "output_type": "stream",
          "name": "stdout",
          "text": [
            "['False', 'None', 'True', 'and', 'as', 'assert', 'async', 'await', 'break', 'class', 'continue', 'def', 'del', 'elif', 'else', 'except', 'finally', 'for', 'from', 'global', 'if', 'import', 'in', 'is', 'lambda', 'nonlocal', 'not', 'or', 'pass', 'raise', 'return', 'try', 'while', 'with', 'yield']\n"
          ]
        },
        {
          "output_type": "execute_result",
          "data": {
            "text/plain": [
              "35"
            ]
          },
          "metadata": {},
          "execution_count": 35
        }
      ]
    },
    {
      "cell_type": "code",
      "source": [
        "_name = \"anand\""
      ],
      "metadata": {
        "id": "gPm-itCB_EWX"
      },
      "execution_count": 36,
      "outputs": []
    },
    {
      "cell_type": "markdown",
      "source": [
        "# Input and Type-conversion"
      ],
      "metadata": {
        "id": "ja34zhR7XJPl"
      }
    },
    {
      "cell_type": "code",
      "source": [
        "a=input(\"write something\")\n",
        "print(a)"
      ],
      "metadata": {
        "colab": {
          "base_uri": "https://localhost:8080/"
        },
        "id": "c4Rxi7IJW49y",
        "outputId": "3711783e-7552-4940-c8a9-576094c08346"
      },
      "execution_count": 37,
      "outputs": [
        {
          "output_type": "stream",
          "name": "stdout",
          "text": [
            "write somethinghello earth\n",
            "hello earth\n"
          ]
        }
      ]
    },
    {
      "cell_type": "code",
      "source": [
        "#imlicit type-conversion\n",
        "print(4+5.5)\n",
        "print(3+3+5j)\n",
        "a=1\n",
        "print(type(a))\n",
        "a=float(a)\n",
        "print(type(a))\n",
        "a=str(a)\n",
        "print(type(a))\n"
      ],
      "metadata": {
        "colab": {
          "base_uri": "https://localhost:8080/"
        },
        "id": "A4JkelW7XZQD",
        "outputId": "d48cedcb-6b66-4410-9afc-ec5d019cd815"
      },
      "execution_count": 38,
      "outputs": [
        {
          "output_type": "stream",
          "name": "stdout",
          "text": [
            "9.5\n",
            "(6+5j)\n",
            "<class 'int'>\n",
            "<class 'float'>\n",
            "<class 'str'>\n"
          ]
        }
      ]
    },
    {
      "cell_type": "markdown",
      "source": [
        "# Literal : Literal is a raw data given in a variable.\n",
        "- Numeric Literal\n",
        "- String Literal\n",
        "- Boolean Literal\n",
        "- Special Literal"
      ],
      "metadata": {
        "id": "j4oFj0OjZHwT"
      }
    },
    {
      "cell_type": "code",
      "source": [
        "#Numerical Literal\n",
        "a=0b1010 #binary Literal\n",
        "b=100 #Decimal Literal\n",
        "c= 0o310 #Octal Literal\n",
        "d= 0x12c\n",
        "\n",
        "#Float Literal\n",
        "x=1.2\n",
        "y=1.2e2 #e2 10x10\n",
        "z=1.2e-3\n",
        "\n",
        "#Complex Literal\n",
        "l=3.14j\n",
        "\n",
        "print(a,b,c,d)\n",
        "print(x,y,z)\n",
        "print(l)\n",
        "\n",
        "#String Literals\n",
        "S=\"Go Green\"\n",
        "raw_str=r\"raw \\n string\"\n",
        "f=u\"\\U0001F40D\"\n",
        "print(S)\n",
        "print(raw_str)\n",
        "print(f)\n",
        "\n",
        "#Boolean Literals\n",
        "m= True + 4\n",
        "n= False + 4\n",
        "print(m)\n",
        "print(n)\n",
        "\n",
        "#Special Literal\n",
        "o=None\n",
        "print(o)"
      ],
      "metadata": {
        "colab": {
          "base_uri": "https://localhost:8080/"
        },
        "id": "AGFIXLHBZHD1",
        "outputId": "3b515f5d-066c-4e0f-f3ec-7f3f0000f959"
      },
      "execution_count": 39,
      "outputs": [
        {
          "output_type": "stream",
          "name": "stdout",
          "text": [
            "10 100 200 300\n",
            "1.2 120.0 0.0012\n",
            "3.14j\n",
            "Go Green\n",
            "raw \\n string\n",
            "🐍\n",
            "5\n",
            "4\n",
            "None\n"
          ]
        }
      ]
    }
  ]
}