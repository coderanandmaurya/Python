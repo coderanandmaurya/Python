{
  "nbformat": 4,
  "nbformat_minor": 0,
  "metadata": {
    "colab": {
      "name": "pattern.ipynb",
      "provenance": [],
      "authorship_tag": "ABX9TyPrVXT3s9tg2ZIdAq1O+GAR",
      "include_colab_link": true
    },
    "kernelspec": {
      "name": "python3",
      "display_name": "Python 3"
    },
    "language_info": {
      "name": "python"
    }
  },
  "cells": [
    {
      "cell_type": "markdown",
      "metadata": {
        "id": "view-in-github",
        "colab_type": "text"
      },
      "source": [
        "<a href=\"https://colab.research.google.com/github/coderanandmaurya/Python/blob/master/pattern.ipynb\" target=\"_parent\"><img src=\"https://colab.research.google.com/assets/colab-badge.svg\" alt=\"Open In Colab\"/></a>"
      ]
    },
    {
      "cell_type": "markdown",
      "source": [
        "How to approach\n",
        "- no. of lines = no. of time outer loop will run\n",
        "  - outer loop for rows\n",
        "- identify for every row number how many col are there \n",
        "  - inner loop for col \n",
        "- what types of element in col like star\n",
        "- what do you need to print"
      ],
      "metadata": {
        "id": "Et2d6gvJ1ROA"
      }
    },
    {
      "cell_type": "code",
      "execution_count": 1,
      "metadata": {
        "colab": {
          "base_uri": "https://localhost:8080/"
        },
        "id": "8USEC1Fq1B9u",
        "outputId": "e747c448-6dc5-4f21-af0d-75ddb8e88256"
      },
      "outputs": [
        {
          "output_type": "stream",
          "name": "stdout",
          "text": [
            "* \r\n",
            "* * \r\n",
            "* * * \r\n",
            "* * * * \r\n",
            "* * * * * \r\n"
          ]
        }
      ],
      "source": [
        "# Python 3.x code to demonstrate star pattern\n",
        " \n",
        "# Function to demonstrate printing pattern\n",
        "def pypart(n):\n",
        "     \n",
        "    # outer loop to handle number of rows\n",
        "    # n in this case\n",
        "    for i in range(0, n):\n",
        "     \n",
        "        # inner loop to handle number of columns\n",
        "        # values changing acc. to outer loop\n",
        "        for j in range(0, i+1):\n",
        "         \n",
        "            # printing stars\n",
        "            print(\"* \",end=\"\")\n",
        "      \n",
        "        # ending line after each row\n",
        "        print(\"\\r\")\n",
        " \n",
        "# Driver Code\n",
        "n = 5\n",
        "pypart(n)"
      ]
    },
    {
      "cell_type": "code",
      "source": [
        "# Function to demonstrate printing pattern\n",
        "def pypart(n):\n",
        "    myList = []\n",
        "    for i in range(1,n+1):\n",
        "        myList.append(\"*\"*i)\n",
        "    print(\"\\n\".join(myList))\n",
        " \n",
        "# Driver Code\n",
        "n = 5\n",
        "pypart(n)"
      ],
      "metadata": {
        "colab": {
          "base_uri": "https://localhost:8080/"
        },
        "id": "t4beE3e_36R6",
        "outputId": "73438837-fa58-4082-d3b0-4de4cf171342"
      },
      "execution_count": 2,
      "outputs": [
        {
          "output_type": "stream",
          "name": "stdout",
          "text": [
            "*\n",
            "**\n",
            "***\n",
            "****\n",
            "*****\n"
          ]
        }
      ]
    },
    {
      "cell_type": "code",
      "source": [
        "\n",
        "# Function to demonstrate printing pattern\n",
        "def pypart2(n):\n",
        "     \n",
        "    # number of spaces\n",
        "    k = 2*n - 2\n",
        " \n",
        "    # outer loop to handle number of rows\n",
        "    for i in range(0, n):\n",
        "     \n",
        "        # inner loop to handle number spaces\n",
        "        # values changing acc. to requirement\n",
        "        for j in range(0, k):\n",
        "            print(end=\" \")\n",
        "     \n",
        "        # decrementing k after each loop\n",
        "        k = k - 2\n",
        "     \n",
        "        # inner loop to handle number of columns\n",
        "        # values changing acc. to outer loop\n",
        "        for j in range(0, i+1):\n",
        "         \n",
        "            # printing stars\n",
        "            print(\"* \", end=\"\")\n",
        "     \n",
        "        # ending line after each row\n",
        "        print(\"\\r\")\n",
        " \n",
        "# Driver Code\n",
        "n = 5\n",
        "pypart2(n)"
      ],
      "metadata": {
        "colab": {
          "base_uri": "https://localhost:8080/"
        },
        "id": "cj1R2dTR4Iew",
        "outputId": "ac359617-5c4d-48c3-dcc5-e4bf34ac6cbb"
      },
      "execution_count": 3,
      "outputs": [
        {
          "output_type": "stream",
          "name": "stdout",
          "text": [
            "        * \r\n",
            "      * * \r\n",
            "    * * * \r\n",
            "  * * * * \r\n",
            "* * * * * \r\n"
          ]
        }
      ]
    },
    {
      "cell_type": "code",
      "source": [
        "# Function to demonstrate printing pattern triangle\n",
        "def triangle(n):\n",
        "     \n",
        "    # number of spaces\n",
        "    k = n - 1\n",
        " \n",
        "    # outer loop to handle number of rows\n",
        "    for i in range(0, n):\n",
        "     \n",
        "        # inner loop to handle number spaces\n",
        "        # values changing acc. to requirement\n",
        "        for j in range(0, k):\n",
        "            print(end=\" \")\n",
        "     \n",
        "        # decrementing k after each loop\n",
        "        k = k - 1\n",
        "     \n",
        "        # inner loop to handle number of columns\n",
        "        # values changing acc. to outer loop\n",
        "        for j in range(0, i+1):\n",
        "         \n",
        "            # printing stars\n",
        "            print(\"* \", end=\"\")\n",
        "     \n",
        "        # ending line after each row\n",
        "        print(\"\\r\")\n",
        " \n",
        "# Driver Code\n",
        "n = 5\n",
        "triangle(n)"
      ],
      "metadata": {
        "colab": {
          "base_uri": "https://localhost:8080/"
        },
        "id": "vvAZm8em4Ihg",
        "outputId": "cae0a370-a6d9-4d08-e599-9e365af5d4c2"
      },
      "execution_count": 4,
      "outputs": [
        {
          "output_type": "stream",
          "name": "stdout",
          "text": [
            "    * \r\n",
            "   * * \r\n",
            "  * * * \r\n",
            " * * * * \r\n",
            "* * * * * \r\n"
          ]
        }
      ]
    },
    {
      "cell_type": "code",
      "source": [
        "# Function to demonstrate printing pattern of numbers\n",
        "def numpat(n):\n",
        "     \n",
        "    # initialising starting number\n",
        "    num = 1\n",
        " \n",
        "    # outer loop to handle number of rows\n",
        "    for i in range(0, n):\n",
        "     \n",
        "        # re assigning num\n",
        "        num = 1\n",
        "     \n",
        "        # inner loop to handle number of columns\n",
        "            # values changing acc. to outer loop\n",
        "        for j in range(0, i+1):\n",
        "         \n",
        "                # printing number\n",
        "            print(num, end=\" \")\n",
        "         \n",
        "            # incrementing number at each column\n",
        "            num = num + 1\n",
        "     \n",
        "        # ending line after each row\n",
        "        print(\"\\r\")\n",
        " \n",
        "# Driver code\n",
        "n = 5\n",
        "numpat(n)"
      ],
      "metadata": {
        "colab": {
          "base_uri": "https://localhost:8080/"
        },
        "id": "CpvnLdZt46q6",
        "outputId": "33fc056f-1aff-4caf-afc9-1148a7f75c8f"
      },
      "execution_count": 5,
      "outputs": [
        {
          "output_type": "stream",
          "name": "stdout",
          "text": [
            "1 \r\n",
            "1 2 \r\n",
            "1 2 3 \r\n",
            "1 2 3 4 \r\n",
            "1 2 3 4 5 \r\n"
          ]
        }
      ]
    },
    {
      "cell_type": "code",
      "source": [
        "# Function to demonstrate printing pattern of numbers\n",
        "def contnum(n):\n",
        "     \n",
        "    # initializing starting number\n",
        "    num = 1\n",
        " \n",
        "    # outer loop to handle number of rows\n",
        "    for i in range(0, n):\n",
        "     \n",
        "        # not re assigning num\n",
        "        # num = 1\n",
        "     \n",
        "        # inner loop to handle number of columns\n",
        "        # values changing acc. to outer loop\n",
        "        for j in range(0, i+1):\n",
        "         \n",
        "            # printing number\n",
        "            print(num, end=\" \")\n",
        "         \n",
        "            # incrementing number at each column\n",
        "            num = num + 1\n",
        "     \n",
        "        # ending line after each row\n",
        "        print(\"\\r\")\n",
        " \n",
        "n = 5\n",
        " \n",
        "# sending 5 as argument\n",
        "# calling Function\n",
        "contnum(n)"
      ],
      "metadata": {
        "colab": {
          "base_uri": "https://localhost:8080/"
        },
        "id": "BoQiooj046uA",
        "outputId": "5b3d6c11-1b47-40bb-8f25-c47136f91b02"
      },
      "execution_count": 6,
      "outputs": [
        {
          "output_type": "stream",
          "name": "stdout",
          "text": [
            "1 \r\n",
            "2 3 \r\n",
            "4 5 6 \r\n",
            "7 8 9 10 \r\n",
            "11 12 13 14 15 \r\n"
          ]
        }
      ]
    },
    {
      "cell_type": "code",
      "source": [
        "# Function to demonstrate printing pattern of alphabets\n",
        "def alphapat(n):\n",
        "     \n",
        "    # initializing value corresponding to 'A'\n",
        "    # ASCII value\n",
        "    num = 65\n",
        " \n",
        "    # outer loop to handle number of rows\n",
        "    # 5 in this case\n",
        "    for i in range(0, n):\n",
        "     \n",
        "        # inner loop to handle number of columns\n",
        "        # values changing acc. to outer loop\n",
        "        for j in range(0, i+1):\n",
        "         \n",
        "            # explicitly converting to char\n",
        "            ch = chr(num)\n",
        "         \n",
        "            # printing char value\n",
        "            print(ch, end=\" \")\n",
        "     \n",
        "        # incrementing number\n",
        "        num = num + 1\n",
        "     \n",
        "        # ending line after each row\n",
        "        print(\"\\r\")\n",
        " \n",
        "# Driver Code\n",
        "n = 5\n",
        "alphapat(n)"
      ],
      "metadata": {
        "colab": {
          "base_uri": "https://localhost:8080/"
        },
        "id": "V8UL3gJ446wD",
        "outputId": "2813a0c2-a097-4534-8aa6-1f450801625a"
      },
      "execution_count": 7,
      "outputs": [
        {
          "output_type": "stream",
          "name": "stdout",
          "text": [
            "A \r\n",
            "B B \r\n",
            "C C C \r\n",
            "D D D D \r\n",
            "E E E E E \r\n"
          ]
        }
      ]
    },
    {
      "cell_type": "code",
      "source": [
        "# Function to demonstrate printing pattern of alphabets\n",
        "def  contalpha(n):\n",
        "     \n",
        "    # initializing value corresponding to 'A'\n",
        "    # ASCII value\n",
        "    num = 65\n",
        " \n",
        "    # outer loop to handle number of rows\n",
        "    for i in range(0, n):\n",
        "     \n",
        "        # inner loop to handle number of columns\n",
        "        # values changing acc. to outer loop\n",
        "        for j in range(0, i+1):\n",
        "         \n",
        "            # explicitly converting to char\n",
        "            ch = chr(num)\n",
        "         \n",
        "            # printing char value\n",
        "            print(ch, end=\" \")\n",
        "         \n",
        "            # incrementing at each column\n",
        "            num = num +1\n",
        "     \n",
        "     \n",
        "        # ending line after each row\n",
        "        print(\"\\r\")\n",
        " \n",
        "# Driver code\n",
        "n = 5\n",
        "contalpha(n)"
      ],
      "metadata": {
        "colab": {
          "base_uri": "https://localhost:8080/"
        },
        "id": "e01P0hF15laT",
        "outputId": "e9896df7-e48d-47f1-ce06-8509ac71812a"
      },
      "execution_count": 9,
      "outputs": [
        {
          "output_type": "stream",
          "name": "stdout",
          "text": [
            "A \r\n",
            "B C \r\n",
            "D E F \r\n",
            "G H I J \r\n",
            "K L M N O \r\n"
          ]
        }
      ]
    }
  ]
}